{
  "nbformat": 4,
  "nbformat_minor": 0,
  "metadata": {
    "colab": {
      "provenance": [],
      "toc_visible": true,
      "authorship_tag": "ABX9TyPFBwUZ+mf0Tl3s3PRzQTs8",
      "include_colab_link": true
    },
    "kernelspec": {
      "name": "python3",
      "display_name": "Python 3"
    },
    "language_info": {
      "name": "python"
    }
  },
  "cells": [
    {
      "cell_type": "markdown",
      "metadata": {
        "id": "view-in-github",
        "colab_type": "text"
      },
      "source": [
        "<a href=\"https://colab.research.google.com/github/Song-Hyunsub/2024KWCsharpT8/blob/main/%EC%9D%B8%EA%B3%B5%EC%A7%80%EB%8A%A5/%EB%A8%B8%EC%8B%A0%EB%9F%AC%EB%8B%9D_%EC%9D%B4%ED%95%B4_%EC%8B%A4%EC%8A%B5/%EB%A8%B8%EC%8B%A0%EB%9F%AC%EB%8B%9D_2%EC%B0%A8%EC%8B%9C_%EC%9D%98%EC%82%AC%EA%B2%B0%EC%A0%95%ED%8A%B8%EB%A6%AC1.ipynb\" target=\"_parent\"><img src=\"https://colab.research.google.com/assets/colab-badge.svg\" alt=\"Open In Colab\"/></a>"
      ]
    },
    {
      "cell_type": "markdown",
      "source": [
        "의사결정트리를 만드는 과정  \n",
        "[1] 엔트로피가 가장 많이 줄어드는 방법으로 데이터를 나눈다.  \n",
        "주의!) 데이터를 속성을 기준으로 나누면 데이터 분포가 바뀜!  \n",
        "[2] 다른 속성 기준으로 다시 데이터를 나눈다.  \n",
        "[3] 엔트로피가 0이 될 때까지 과정을 반복한다. (계속 반복하지는 않음)  \n",
        "[4] leaf에 도달한다.  \n",
        "- 의사결정트리의 핵심  \n",
        "정보 이득 : 줄어든 엔트로피의 차이  \n",
        "정보 이득이 최대가 되도록 가지치기를 하여 데이터를 나누어야 함  \n",
        "  \n",
        "엔트로피의 정의 공식  \n",
        "-sum(from i=1 to n) p(xi) log_2p(xi)  \n",
        "summation : 정보의 기댓값 (평균값)   \n",
        "log_2() : 정보를 표현하기 위해서 필요한 비트 수 확인 가능  \n",
        "* 확률 p란? 전체 데이터에서 특정 데이터가 차지하는 비율  \n",
        "  \n",
        "필요한 정보의 공간이 클수록 => 엔트로피가 크다.  \n",
        "필요한 모든 bit의 수를 평균한 값 = 엔트로피  \n",
        "- => 지수를 양수로 만들기 위해 씌워준 것이다.  \n",
        "정보엔트로피 H  = 정보의 기댓값\n",
        "i => 물건의 종류  \n",
        "ex) 빨간색/파란색 => i=2  \n",
        "p(x_i) = 전체 데이터에서 해당 종류의 데이터를 뽑을 확률  \n",
        "  \n",
        "확률이 1 => 엔트로피 0  \n",
        "  \n",
        "* 정보이득 (Information Gain)  \n",
        "엔트로피(T) - 엔트로피(A)  \n",
        "  \n",
        "정보 이득 순서 : 타겟값에 영향을 미치는 변수의 순서  \n",
        "  \n",
        "* 예시 꼭 풀어볼 것!)  \n",
        "  \n",
        "QA) 정보 이득은 이전 엔트로피에서 현재의 엔트로피를 뺀 값으로 많을수록 좋습니다.  \n",
        "  \n",
        "\n",
        "루트 노드 : target값에 가장 큰 영향을 미치는 변수  \n",
        "데이터 분기 후 데이터 분포 바뀜 -> 다시 엔트로피 계산 -> 정보 이득 가장 높은 속성 값 찾음  \n",
        "target값이란? => 나무 노드에서 리프 노드를 의미한다. => 목표값 => 클래스 변수  \n",
        "클래스 범주형 데이터에 회귀분석을 결합시켜 연속값 예측 가능  \n",
        "회귀분석 결합 : 의사결정트리의 leaf에다가 회귀분석의 개수 값을 예측하도록 결합  \n",
        "의사결정트리의 가장 기본적 역할 : 범주형 데이터를 예측하는 것  \n",
        "  \n",
        "의사결정트리 알고리즘의 공통점  \n",
        "(1) 엔트로피를 이용함  \n",
        "(2) 지니계수를 이용함  \n",
        "(3) 데이터를 나누는 방법을 이용함  \n",
        "(4) 가장 영향력이 큰 속성을 이용함  \n",
        "  \n",
        "데이터의 불순도 평가 기준  \n",
        "엔트로피 :  log가 포함되므로 속도가 느림  \n",
        " => 데이터의 불순도 희석되는 방향으로 데이터를 나눔  \n",
        "지니계수 : 1 - sum(from i=1 to K) (p_i^2)  \n",
        "=> 속도를 빠르게 할 수 있음  \n",
        "카이제곱스퀘어 : 데이터의 독립성 검정을 위해 사용  \n",
        "sqrt( sum(from i=1 to 2) sum(from j=1 to 2) (n_ij-E_ij)/E_ij )  \n",
        "=> 상관관계가 가장 적도록 나누는 방법  \n",
        "  \n",
        "의사결정트리의 알고리즘을 약간 바꾸면 다른 모델과 결합하여 연속데이터를 예측하는 모델로 만들어 볼 수\n",
        "있습니다. 예를 들면 잎사귀에 해당하는 leaf node에 범주형데이터의 label이 아니라 회귀모델의 계수가\n",
        "들어가는 것입니다. ex) 회귀나무\n"
      ],
      "metadata": {
        "id": "pDmYJJbKmzak"
      }
    },
    {
      "cell_type": "code",
      "execution_count": null,
      "metadata": {
        "colab": {
          "base_uri": "https://localhost:8080/",
          "height": 370
        },
        "id": "i0Az9Tawfjcv",
        "outputId": "57dd3d18-846b-467b-b78f-c2284825ea2d"
      },
      "outputs": [
        {
          "output_type": "display_data",
          "data": {
            "text/plain": [
              "<Figure size 640x480 with 10 Axes>"
            ],
            "image/png": "[encoded data removed]"
          },
          "metadata": {}
        }
      ],
      "source": [
        "import matplotlib.pyplot as plt\n",
        "import random\n",
        "from sklearn import datasets, tree\n",
        "from sklearn.metrics import accuracy_score, confusion_matrix\n",
        "from sklearn.metrics import precision_score, recall_score, f1_score\n",
        "\n",
        "# [1] 데이터 읽어오기\n",
        "digits = datasets.load_digits()\n",
        "\n",
        "for label, img in zip(digits.target[:10], digits.images[:10]):\n",
        "    plt.subplot(2, 5, label + 1)\n",
        "    plt.imshow(img, cmap=plt.cm.gray_r, interpolation='nearest')\n",
        "    plt.title('Digit: {0}'.format(label))\n",
        "plt.show()"
      ]
    },
    {
      "cell_type": "code",
      "source": [
        "digits"
      ],
      "metadata": {
        "colab": {
          "base_uri": "https://localhost:8080/"
        },
        "id": "h2T9J74Cfli5",
        "outputId": "46df03f6-d4d0-4486-c8d9-d88af6ed8eb1"
      },
      "execution_count": null,
      "outputs": [
        {
          "output_type": "execute_result",
          "data": {
            "text/plain": [
              "{'data': array([[ 0.,  0.,  5., ...,  0.,  0.,  0.],\n",
              "        [ 0.,  0.,  0., ..., 10.,  0.,  0.],\n",
              "        [ 0.,  0.,  0., ..., 16.,  9.,  0.],\n",
              "        ...,\n",
              "        [ 0.,  0.,  1., ...,  6.,  0.,  0.],\n",
              "        [ 0.,  0.,  2., ..., 12.,  0.,  0.],\n",
              "        [ 0.,  0., 10., ..., 12.,  1.,  0.]]),\n",
              " 'target': array([0, 1, 2, ..., 8, 9, 8]),\n",
              " 'frame': None,\n",
              " 'feature_names': ['pixel_0_0',\n",
              "  'pixel_0_1',\n",
              "  'pixel_0_2',\n",
              "  'pixel_0_3',\n",
              "  'pixel_0_4',\n",
              "  'pixel_0_5',\n",
              "  'pixel_0_6',\n",
              "  'pixel_0_7',\n",
              "  'pixel_1_0',\n",
              "  'pixel_1_1',\n",
              "  'pixel_1_2',\n",
              "  'pixel_1_3',\n",
              "  'pixel_1_4',\n",
              "  'pixel_1_5',\n",
              "  'pixel_1_6',\n",
              "  'pixel_1_7',\n",
              "  'pixel_2_0',\n",
              "  'pixel_2_1',\n",
              "  'pixel_2_2',\n",
              "  'pixel_2_3',\n",
              "  'pixel_2_4',\n",
              "  'pixel_2_5',\n",
              "  'pixel_2_6',\n",
              "  'pixel_2_7',\n",
              "  'pixel_3_0',\n",
              "  'pixel_3_1',\n",
              "  'pixel_3_2',\n",
              "  'pixel_3_3',\n",
              "  'pixel_3_4',\n",
              "  'pixel_3_5',\n",
              "  'pixel_3_6',\n",
              "  'pixel_3_7',\n",
              "  'pixel_4_0',\n",
              "  'pixel_4_1',\n",
              "  'pixel_4_2',\n",
              "  'pixel_4_3',\n",
              "  'pixel_4_4',\n",
              "  'pixel_4_5',\n",
              "  'pixel_4_6',\n",
              "  'pixel_4_7',\n",
              "  'pixel_5_0',\n",
              "  'pixel_5_1',\n",
              "  'pixel_5_2',\n",
              "  'pixel_5_3',\n",
              "  'pixel_5_4',\n",
              "  'pixel_5_5',\n",
              "  'pixel_5_6',\n",
              "  'pixel_5_7',\n",
              "  'pixel_6_0',\n",
              "  'pixel_6_1',\n",
              "  'pixel_6_2',\n",
              "  'pixel_6_3',\n",
              "  'pixel_6_4',\n",
              "  'pixel_6_5',\n",
              "  'pixel_6_6',\n",
              "  'pixel_6_7',\n",
              "  'pixel_7_0',\n",
              "  'pixel_7_1',\n",
              "  'pixel_7_2',\n",
              "  'pixel_7_3',\n",
              "  'pixel_7_4',\n",
              "  'pixel_7_5',\n",
              "  'pixel_7_6',\n",
              "  'pixel_7_7'],\n",
              " 'target_names': array([0, 1, 2, 3, 4, 5, 6, 7, 8, 9]),\n",
              " 'images': array([[[ 0.,  0.,  5., ...,  1.,  0.,  0.],\n",
              "         [ 0.,  0., 13., ..., 15.,  5.,  0.],\n",
              "         [ 0.,  3., 15., ..., 11.,  8.,  0.],\n",
              "         ...,\n",
              "         [ 0.,  4., 11., ..., 12.,  7.,  0.],\n",
              "         [ 0.,  2., 14., ..., 12.,  0.,  0.],\n",
              "         [ 0.,  0.,  6., ...,  0.,  0.,  0.]],\n",
              " \n",
              "        [[ 0.,  0.,  0., ...,  5.,  0.,  0.],\n",
              "         [ 0.,  0.,  0., ...,  9.,  0.,  0.],\n",
              "         [ 0.,  0.,  3., ...,  6.,  0.,  0.],\n",
              "         ...,\n",
              "         [ 0.,  0.,  1., ...,  6.,  0.,  0.],\n",
              "         [ 0.,  0.,  1., ...,  6.,  0.,  0.],\n",
              "         [ 0.,  0.,  0., ..., 10.,  0.,  0.]],\n",
              " \n",
              "        [[ 0.,  0.,  0., ..., 12.,  0.,  0.],\n",
              "         [ 0.,  0.,  3., ..., 14.,  0.,  0.],\n",
              "         [ 0.,  0.,  8., ..., 16.,  0.,  0.],\n",
              "         ...,\n",
              "         [ 0.,  9., 16., ...,  0.,  0.,  0.],\n",
              "         [ 0.,  3., 13., ..., 11.,  5.,  0.],\n",
              "         [ 0.,  0.,  0., ..., 16.,  9.,  0.]],\n",
              " \n",
              "        ...,\n",
              " \n",
              "        [[ 0.,  0.,  1., ...,  1.,  0.,  0.],\n",
              "         [ 0.,  0., 13., ...,  2.,  1.,  0.],\n",
              "         [ 0.,  0., 16., ..., 16.,  5.,  0.],\n",
              "         ...,\n",
              "         [ 0.,  0., 16., ..., 15.,  0.,  0.],\n",
              "         [ 0.,  0., 15., ..., 16.,  0.,  0.],\n",
              "         [ 0.,  0.,  2., ...,  6.,  0.,  0.]],\n",
              " \n",
              "        [[ 0.,  0.,  2., ...,  0.,  0.,  0.],\n",
              "         [ 0.,  0., 14., ..., 15.,  1.,  0.],\n",
              "         [ 0.,  4., 16., ..., 16.,  7.,  0.],\n",
              "         ...,\n",
              "         [ 0.,  0.,  0., ..., 16.,  2.,  0.],\n",
              "         [ 0.,  0.,  4., ..., 16.,  2.,  0.],\n",
              "         [ 0.,  0.,  5., ..., 12.,  0.,  0.]],\n",
              " \n",
              "        [[ 0.,  0., 10., ...,  1.,  0.,  0.],\n",
              "         [ 0.,  2., 16., ...,  1.,  0.,  0.],\n",
              "         [ 0.,  0., 15., ..., 15.,  0.,  0.],\n",
              "         ...,\n",
              "         [ 0.,  4., 16., ..., 16.,  6.,  0.],\n",
              "         [ 0.,  8., 16., ..., 16.,  8.,  0.],\n",
              "         [ 0.,  1.,  8., ..., 12.,  1.,  0.]]]),\n",
              " 'DESCR': \".. _digits_dataset:\\n\\nOptical recognition of handwritten digits dataset\\n--------------------------------------------------\\n\\n**Data Set Characteristics:**\\n\\n:Number of Instances: 1797\\n:Number of Attributes: 64\\n:Attribute Information: 8x8 image of integer pixels in the range 0..16.\\n:Missing Attribute Values: None\\n:Creator: E. Alpaydin (alpaydin '@' boun.edu.tr)\\n:Date: July; 1998\\n\\nThis is a copy of the test set of the UCI ML hand-written digits datasets\\nhttps://archive.ics.uci.edu/ml/datasets/Optical+Recognition+of+Handwritten+Digits\\n\\nThe data set contains images of hand-written digits: 10 classes where\\neach class refers to a digit.\\n\\nPreprocessing programs made available by NIST were used to extract\\nnormalized bitmaps of handwritten digits from a preprinted form. From a\\ntotal of 43 people, 30 contributed to the training set and different 13\\nto the test set. 32x32 bitmaps are divided into nonoverlapping blocks of\\n4x4 and the number of on pixels are counted in each block. This generates\\nan input matrix of 8x8 where each element is an integer in the range\\n0..16. This reduces dimensionality and gives invariance to small\\ndistortions.\\n\\nFor info on NIST preprocessing routines, see M. D. Garris, J. L. Blue, G.\\nT. Candela, D. L. Dimmick, J. Geist, P. J. Grother, S. A. Janet, and C.\\nL. Wilson, NIST Form-Based Handprint Recognition System, NISTIR 5469,\\n1994.\\n\\n.. dropdown:: References\\n\\n  - C. Kaynak (1995) Methods of Combining Multiple Classifiers and Their\\n    Applications to Handwritten Digit Recognition, MSc Thesis, Institute of\\n    Graduate Studies in Science and Engineering, Bogazici University.\\n  - E. Alpaydin, C. Kaynak (1998) Cascading Classifiers, Kybernetika.\\n  - Ken Tang and Ponnuthurai N. Suganthan and Xi Yao and A. Kai Qin.\\n    Linear dimensionalityreduction using relevance weighted LDA. School of\\n    Electrical and Electronic Engineering Nanyang Technological University.\\n    2005.\\n  - Claudio Gentile. A New Approximate Maximal Margin Classification\\n    Algorithm. NIPS. 2000.\\n\"}"
            ]
          },
          "metadata": {},
          "execution_count": 3
        }
      ]
    },
    {
      "cell_type": "code",
      "source": [
        "label, img, img.shape"
      ],
      "metadata": {
        "colab": {
          "base_uri": "https://localhost:8080/"
        },
        "id": "ywjfC8gDgznp",
        "outputId": "6c50477c-7b27-4569-97fd-63c9ff5a5ec2"
      },
      "execution_count": null,
      "outputs": [
        {
          "output_type": "execute_result",
          "data": {
            "text/plain": [
              "(9,\n",
              " array([[ 0.,  0., 11., 12.,  0.,  0.,  0.,  0.],\n",
              "        [ 0.,  2., 16., 16., 16., 13.,  0.,  0.],\n",
              "        [ 0.,  3., 16., 12., 10., 14.,  0.,  0.],\n",
              "        [ 0.,  1., 16.,  1., 12., 15.,  0.,  0.],\n",
              "        [ 0.,  0., 13., 16.,  9., 15.,  2.,  0.],\n",
              "        [ 0.,  0.,  0.,  3.,  0.,  9., 11.,  0.],\n",
              "        [ 0.,  0.,  0.,  0.,  9., 15.,  4.,  0.],\n",
              "        [ 0.,  0.,  9., 12., 13.,  3.,  0.,  0.]]),\n",
              " (8, 8))"
            ]
          },
          "metadata": {},
          "execution_count": 4
        }
      ]
    },
    {
      "cell_type": "code",
      "source": [
        "images = digits.images\n",
        "labels = digits.target\n",
        "\n",
        "# 차원을 하나 줄인다.\n",
        "images = images.reshape(images.shape[0], -1)\n",
        "\n",
        "# 결정트리를 생성한다.\n",
        "# [2] 모델 만들기\n",
        "n_samples = len(images)\n",
        "train_size = int(n_samples * 2/3)\n",
        "classifier = tree.DecisionTreeClassifier(max_depth=3)\n",
        "classifier.fit(images[:train_size], labels[:train_size])\n",
        "\n",
        "# 결정트리의 성능을 확인한다.\n",
        "# [3] 예측하기\n",
        "expected = labels[train_size:]\n",
        "predicted = classifier.predict(images[train_size:])\n",
        "\n",
        "# [4] 평가하기\n",
        "print('Accuracy:\\n', accuracy_score(expected, predicted)) # 실제 값과 예측 값 비교\n",
        "print('Confusion matrix:\\n', confusion_matrix(expected, predicted)) # 혼돈 행렬\n",
        "# 아래 행렬의 대각선에 숫자가 모여있을수록 좋은 모델!"
      ],
      "metadata": {
        "colab": {
          "base_uri": "https://localhost:8080/"
        },
        "id": "p7AStiIWg62k",
        "outputId": "d3b543b3-e966-4444-c6d0-8b4a016f9e19"
      },
      "execution_count": null,
      "outputs": [
        {
          "output_type": "stream",
          "name": "stdout",
          "text": [
            "Accuracy:\n",
            " 0.44908180300500833\n",
            "Confusion matrix:\n",
            " [[57  0  1  0  1  0  0  0  0  0]\n",
            " [ 0  0 25 16  6  0  0 15  0  0]\n",
            " [ 1  0 49  6  0  1  0  3  0  0]\n",
            " [ 0  0 10 46  0  0  0  5  0  1]\n",
            " [ 4  0 27  0 30  0  0  1  0  0]\n",
            " [ 0  0  2 29 20  5  0  3  0  0]\n",
            " [ 0  0 55  5  0  1  0  0  0  0]\n",
            " [ 0  0  0  0  6  0  0 55  0  0]\n",
            " [ 0  0 33  6  2  1  0 13  0  0]\n",
            " [ 2  0  1 21  7  0  0  0  0 27]]\n"
          ]
        }
      ]
    },
    {
      "cell_type": "code",
      "source": [
        "img, img.shape"
      ],
      "metadata": {
        "colab": {
          "base_uri": "https://localhost:8080/"
        },
        "id": "z3vdViLHiNNg",
        "outputId": "77d3fec3-192d-4ece-a7d4-ef2cf155edb5"
      },
      "execution_count": null,
      "outputs": [
        {
          "output_type": "execute_result",
          "data": {
            "text/plain": [
              "(array([[ 0.,  0., 11., 12.,  0.,  0.,  0.,  0.],\n",
              "        [ 0.,  2., 16., 16., 16., 13.,  0.,  0.],\n",
              "        [ 0.,  3., 16., 12., 10., 14.,  0.,  0.],\n",
              "        [ 0.,  1., 16.,  1., 12., 15.,  0.,  0.],\n",
              "        [ 0.,  0., 13., 16.,  9., 15.,  2.,  0.],\n",
              "        [ 0.,  0.,  0.,  3.,  0.,  9., 11.,  0.],\n",
              "        [ 0.,  0.,  0.,  0.,  9., 15.,  4.,  0.],\n",
              "        [ 0.,  0.,  9., 12., 13.,  3.,  0.,  0.]]),\n",
              " (8, 8))"
            ]
          },
          "metadata": {},
          "execution_count": 6
        }
      ]
    },
    {
      "cell_type": "code",
      "source": [
        "n_samples"
      ],
      "metadata": {
        "colab": {
          "base_uri": "https://localhost:8080/"
        },
        "id": "vG2beKRoiwAt",
        "outputId": "960e32d0-c2ea-4838-b24a-9f178d08c454"
      },
      "execution_count": null,
      "outputs": [
        {
          "output_type": "execute_result",
          "data": {
            "text/plain": [
              "1797"
            ]
          },
          "metadata": {},
          "execution_count": 7
        }
      ]
    },
    {
      "cell_type": "code",
      "source": [
        "expected"
      ],
      "metadata": {
        "colab": {
          "base_uri": "https://localhost:8080/"
        },
        "id": "pC91u8quizKH",
        "outputId": "57a9d46d-6d1b-4c7b-b02b-7186c3ce6a6b"
      },
      "execution_count": null,
      "outputs": [
        {
          "output_type": "execute_result",
          "data": {
            "text/plain": [
              "array([4, 1, 7, 7, 3, 5, 1, 0, 0, 2, 2, 7, 8, 2, 0, 1, 2, 6, 3, 3, 7, 3,\n",
              "       3, 4, 6, 6, 6, 4, 9, 1, 5, 0, 9, 5, 2, 8, 2, 0, 0, 1, 7, 6, 3, 2,\n",
              "       1, 7, 4, 6, 3, 1, 3, 9, 1, 7, 6, 8, 4, 3, 1, 4, 0, 5, 3, 6, 9, 6,\n",
              "       1, 7, 5, 4, 4, 7, 2, 8, 2, 2, 5, 7, 9, 5, 4, 8, 8, 4, 9, 0, 8, 9,\n",
              "       8, 0, 1, 2, 3, 4, 5, 6, 7, 8, 9, 0, 1, 2, 3, 4, 5, 6, 7, 8, 9, 0,\n",
              "       1, 2, 3, 4, 5, 6, 7, 8, 9, 0, 9, 5, 5, 6, 5, 0, 9, 8, 9, 8, 4, 1,\n",
              "       7, 7, 3, 5, 1, 0, 0, 2, 2, 7, 8, 2, 0, 1, 2, 6, 3, 3, 7, 3, 3, 4,\n",
              "       6, 6, 6, 4, 9, 1, 5, 0, 9, 5, 2, 8, 2, 0, 0, 1, 7, 6, 3, 2, 1, 7,\n",
              "       4, 6, 3, 1, 3, 9, 1, 7, 6, 8, 4, 3, 1, 4, 0, 5, 3, 6, 9, 6, 1, 7,\n",
              "       5, 4, 4, 7, 2, 8, 2, 2, 5, 7, 9, 5, 4, 8, 8, 4, 9, 0, 8, 0, 1, 2,\n",
              "       3, 4, 5, 6, 7, 8, 9, 0, 1, 2, 3, 4, 5, 6, 7, 8, 9, 0, 1, 2, 3, 4,\n",
              "       5, 6, 7, 8, 9, 0, 9, 5, 5, 6, 5, 0, 9, 8, 9, 8, 4, 1, 7, 7, 3, 5,\n",
              "       1, 0, 0, 2, 2, 7, 8, 2, 0, 1, 2, 6, 3, 3, 7, 3, 3, 4, 6, 6, 6, 4,\n",
              "       9, 1, 5, 0, 9, 5, 2, 8, 2, 0, 0, 1, 7, 6, 3, 2, 1, 7, 4, 6, 3, 1,\n",
              "       3, 9, 1, 7, 6, 8, 4, 3, 1, 4, 0, 5, 3, 6, 9, 6, 1, 7, 5, 4, 4, 7,\n",
              "       2, 8, 2, 2, 5, 7, 9, 5, 4, 8, 8, 4, 9, 0, 8, 9, 8, 0, 1, 2, 3, 4,\n",
              "       5, 6, 7, 8, 9, 0, 1, 2, 3, 4, 5, 6, 9, 0, 1, 2, 3, 4, 5, 6, 7, 8,\n",
              "       9, 0, 9, 5, 5, 6, 5, 0, 9, 8, 9, 8, 4, 1, 7, 7, 3, 5, 1, 0, 0, 2,\n",
              "       2, 7, 8, 2, 0, 1, 2, 6, 3, 3, 7, 3, 3, 4, 6, 6, 6, 4, 9, 1, 5, 0,\n",
              "       9, 5, 2, 8, 0, 1, 7, 6, 3, 2, 1, 7, 4, 6, 3, 1, 3, 9, 1, 7, 6, 8,\n",
              "       4, 3, 1, 4, 0, 5, 3, 6, 9, 6, 1, 7, 5, 4, 4, 7, 2, 2, 5, 7, 9, 5,\n",
              "       4, 4, 9, 0, 8, 9, 8, 0, 1, 2, 3, 4, 5, 6, 7, 8, 9, 0, 1, 2, 3, 4,\n",
              "       5, 6, 7, 8, 9, 0, 1, 2, 3, 4, 5, 6, 7, 8, 9, 0, 9, 5, 5, 6, 5, 0,\n",
              "       9, 8, 9, 8, 4, 1, 7, 7, 3, 5, 1, 0, 0, 2, 2, 7, 8, 2, 0, 1, 2, 6,\n",
              "       3, 3, 7, 3, 3, 4, 6, 6, 6, 4, 9, 1, 5, 0, 9, 5, 2, 8, 2, 0, 0, 1,\n",
              "       7, 6, 3, 2, 1, 7, 4, 6, 3, 1, 3, 9, 1, 7, 6, 8, 4, 3, 1, 4, 0, 5,\n",
              "       3, 6, 9, 6, 1, 7, 5, 4, 4, 7, 2, 8, 2, 2, 5, 7, 9, 5, 4, 8, 8, 4,\n",
              "       9, 0, 8, 9, 8])"
            ]
          },
          "metadata": {},
          "execution_count": 8
        }
      ]
    },
    {
      "cell_type": "code",
      "source": [
        "predicted"
      ],
      "metadata": {
        "colab": {
          "base_uri": "https://localhost:8080/"
        },
        "id": "xvReUnkBi4Gp",
        "outputId": "8b5b9306-d01f-4ade-ad24-f2dce8f4bf17"
      },
      "execution_count": null,
      "outputs": [
        {
          "output_type": "execute_result",
          "data": {
            "text/plain": [
              "array([2, 2, 7, 7, 7, 2, 2, 0, 0, 2, 2, 7, 7, 2, 0, 7, 2, 2, 9, 3, 4, 3,\n",
              "       3, 0, 2, 2, 2, 4, 3, 2, 7, 0, 3, 3, 2, 7, 2, 0, 0, 7, 7, 2, 3, 2,\n",
              "       7, 4, 2, 2, 3, 7, 3, 9, 2, 7, 2, 7, 2, 3, 4, 4, 0, 7, 3, 2, 3, 2,\n",
              "       4, 4, 5, 2, 4, 7, 2, 2, 2, 2, 5, 7, 3, 4, 2, 7, 2, 4, 9, 0, 7, 3,\n",
              "       2, 0, 3, 2, 3, 2, 3, 2, 7, 2, 3, 0, 2, 3, 3, 0, 3, 2, 7, 2, 9, 0,\n",
              "       3, 2, 3, 0, 3, 2, 7, 7, 9, 0, 9, 3, 3, 2, 4, 2, 3, 7, 3, 2, 2, 2,\n",
              "       7, 7, 3, 3, 2, 0, 0, 2, 3, 7, 2, 3, 0, 3, 3, 2, 3, 3, 4, 2, 3, 0,\n",
              "       2, 2, 2, 4, 9, 2, 3, 0, 9, 2, 2, 2, 3, 0, 0, 2, 7, 2, 3, 2, 2, 7,\n",
              "       2, 2, 3, 7, 3, 2, 2, 7, 2, 7, 2, 3, 7, 4, 0, 4, 3, 5, 9, 2, 7, 7,\n",
              "       4, 2, 2, 7, 3, 2, 2, 2, 3, 7, 3, 4, 2, 7, 4, 2, 0, 0, 7, 0, 3, 2,\n",
              "       3, 4, 3, 3, 7, 2, 9, 0, 3, 2, 3, 4, 3, 3, 7, 2, 9, 0, 3, 2, 3, 4,\n",
              "       3, 2, 7, 2, 9, 0, 9, 3, 3, 2, 3, 0, 9, 2, 9, 2, 2, 3, 7, 4, 3, 3,\n",
              "       3, 0, 0, 2, 2, 7, 3, 2, 0, 3, 2, 3, 3, 3, 7, 3, 3, 4, 2, 2, 2, 4,\n",
              "       9, 3, 3, 0, 9, 3, 2, 2, 2, 0, 0, 3, 7, 3, 3, 2, 3, 7, 4, 2, 3, 3,\n",
              "       3, 9, 3, 7, 3, 2, 4, 3, 3, 4, 0, 5, 3, 2, 9, 2, 3, 4, 5, 2, 4, 7,\n",
              "       2, 2, 2, 2, 3, 7, 9, 3, 4, 2, 2, 2, 0, 0, 2, 9, 2, 0, 4, 2, 3, 4,\n",
              "       4, 2, 7, 2, 4, 0, 4, 2, 3, 4, 4, 2, 9, 0, 4, 7, 3, 4, 4, 2, 7, 5,\n",
              "       9, 4, 3, 4, 4, 2, 4, 0, 4, 4, 4, 3, 4, 7, 7, 7, 2, 5, 7, 0, 0, 0,\n",
              "       2, 7, 2, 2, 0, 4, 2, 2, 7, 7, 7, 7, 2, 4, 2, 2, 2, 7, 4, 7, 4, 0,\n",
              "       9, 3, 2, 2, 0, 7, 7, 2, 3, 2, 7, 7, 4, 2, 3, 2, 3, 4, 2, 7, 2, 3,\n",
              "       4, 3, 7, 4, 0, 4, 3, 2, 9, 2, 7, 7, 7, 2, 4, 7, 2, 2, 4, 7, 3, 4,\n",
              "       4, 4, 4, 0, 7, 4, 7, 0, 2, 2, 3, 2, 3, 2, 7, 2, 3, 0, 2, 2, 2, 4,\n",
              "       3, 2, 7, 7, 3, 0, 2, 2, 2, 2, 4, 2, 7, 3, 9, 0, 3, 4, 3, 2, 4, 0,\n",
              "       9, 2, 9, 2, 4, 2, 7, 7, 7, 4, 2, 0, 0, 5, 2, 7, 2, 2, 0, 2, 2, 2,\n",
              "       2, 2, 7, 3, 2, 4, 2, 2, 2, 2, 3, 2, 4, 0, 3, 3, 7, 3, 7, 0, 0, 2,\n",
              "       7, 2, 2, 2, 7, 7, 2, 2, 3, 2, 2, 3, 2, 7, 2, 2, 2, 3, 2, 2, 0, 3,\n",
              "       3, 2, 3, 2, 2, 7, 3, 2, 2, 7, 2, 3, 2, 2, 3, 7, 3, 3, 2, 2, 2, 2,\n",
              "       3, 0, 2, 3, 2])"
            ]
          },
          "metadata": {},
          "execution_count": 9
        }
      ]
    }
  ]
}